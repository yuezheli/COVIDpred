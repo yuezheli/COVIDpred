{
  "nbformat": 4,
  "nbformat_minor": 0,
  "metadata": {
    "colab": {
      "name": "COVID_prediction_LSTM.ipynb",
      "provenance": [],
      "collapsed_sections": []
    },
    "kernelspec": {
      "name": "python3",
      "display_name": "Python 3"
    }
  },
  "cells": [
    {
      "cell_type": "code",
      "metadata": {
        "id": "chNdTN73FVMo"
      },
      "source": [
        "import numpy as np\r\n",
        "import matplotlib.pyplot as plt\r\n",
        "import pandas as pd\r\n",
        "import math\r\n",
        "from keras.models import Sequential\r\n",
        "from keras.layers import Dense\r\n",
        "from keras.layers import LSTM\r\n",
        "from sklearn.preprocessing import MinMaxScaler\r\n",
        "from sklearn.metrics import mean_squared_error\r\n",
        "# convert an array of values into a dataset matrix\r\n",
        "def create_dataset(dataset, look_back=1):\r\n",
        "    dataX, dataY = [], []\r\n",
        "    for i in range(len(dataset)-look_back-1):\r\n",
        "        a = dataset[i:(i+look_back), 0]\r\n",
        "        dataX.append(a)\r\n",
        "        dataY.append(dataset[i + look_back, 0])\r\n",
        "    return np.array(dataX), np.array(dataY)\r\n",
        "# fix random seed for reproducibility\r\n",
        "np.random.seed(7)"
      ],
      "execution_count": 2,
      "outputs": []
    },
    {
      "cell_type": "code",
      "metadata": {
        "colab": {
          "base_uri": "https://localhost:8080/",
          "height": 405
        },
        "id": "V1U4DU3-FdV3",
        "outputId": "e74ec566-2410-4669-8235-a3a311d6f398"
      },
      "source": [
        "# read in data\r\n",
        "\r\n",
        "dataframe = pd.read_csv('https://raw.githubusercontent.com/yuezheli/COVIDpred/main/CleanedData.csv', header = 0)\r\n",
        "\r\n",
        "dataframe['Date'] = pd.to_datetime(dataframe['Date'])\r\n",
        "\r\n",
        "\r\n",
        "# use Connecticut data \r\n",
        "ct = dataframe[dataframe['state'] == 'Connecticut']\r\n",
        "\r\n",
        "newconfirmed= np.zeros([len(ct)])\r\n",
        "newdeath = np.zeros([len(ct)])\r\n",
        "\r\n",
        "for i in range(len(ct)-1):\r\n",
        "    newconfirmed[i+1] = ct['confirmed'].iloc[i+1] - ct['confirmed'].iloc[i] \r\n",
        "    newdeath[i+1] = ct['death'].iloc[i+1] - ct['death'].iloc[i] \r\n",
        "\r\n",
        "ct['added confirmed'] = newconfirmed\r\n",
        "ct['added death'] = newdeath\r\n",
        "\r\n",
        "ct.set_index('Date', drop = True, inplace = True)\r\n",
        "\r\n",
        "ct.head()"
      ],
      "execution_count": 3,
      "outputs": [
        {
          "output_type": "stream",
          "text": [
            "/usr/local/lib/python3.6/dist-packages/ipykernel_launcher.py:18: SettingWithCopyWarning: \n",
            "A value is trying to be set on a copy of a slice from a DataFrame.\n",
            "Try using .loc[row_indexer,col_indexer] = value instead\n",
            "\n",
            "See the caveats in the documentation: https://pandas.pydata.org/pandas-docs/stable/user_guide/indexing.html#returning-a-view-versus-a-copy\n",
            "/usr/local/lib/python3.6/dist-packages/ipykernel_launcher.py:19: SettingWithCopyWarning: \n",
            "A value is trying to be set on a copy of a slice from a DataFrame.\n",
            "Try using .loc[row_indexer,col_indexer] = value instead\n",
            "\n",
            "See the caveats in the documentation: https://pandas.pydata.org/pandas-docs/stable/user_guide/indexing.html#returning-a-view-versus-a-copy\n"
          ],
          "name": "stderr"
        },
        {
          "output_type": "execute_result",
          "data": {
            "text/html": [
              "<div>\n",
              "<style scoped>\n",
              "    .dataframe tbody tr th:only-of-type {\n",
              "        vertical-align: middle;\n",
              "    }\n",
              "\n",
              "    .dataframe tbody tr th {\n",
              "        vertical-align: top;\n",
              "    }\n",
              "\n",
              "    .dataframe thead th {\n",
              "        text-align: right;\n",
              "    }\n",
              "</style>\n",
              "<table border=\"1\" class=\"dataframe\">\n",
              "  <thead>\n",
              "    <tr style=\"text-align: right;\">\n",
              "      <th></th>\n",
              "      <th>confirmed</th>\n",
              "      <th>death</th>\n",
              "      <th>state</th>\n",
              "      <th>added confirmed</th>\n",
              "      <th>added death</th>\n",
              "    </tr>\n",
              "    <tr>\n",
              "      <th>Date</th>\n",
              "      <th></th>\n",
              "      <th></th>\n",
              "      <th></th>\n",
              "      <th></th>\n",
              "      <th></th>\n",
              "    </tr>\n",
              "  </thead>\n",
              "  <tbody>\n",
              "    <tr>\n",
              "      <th>2020-01-22</th>\n",
              "      <td>0</td>\n",
              "      <td>0</td>\n",
              "      <td>Connecticut</td>\n",
              "      <td>0.0</td>\n",
              "      <td>0.0</td>\n",
              "    </tr>\n",
              "    <tr>\n",
              "      <th>2020-01-23</th>\n",
              "      <td>0</td>\n",
              "      <td>0</td>\n",
              "      <td>Connecticut</td>\n",
              "      <td>0.0</td>\n",
              "      <td>0.0</td>\n",
              "    </tr>\n",
              "    <tr>\n",
              "      <th>2020-01-24</th>\n",
              "      <td>0</td>\n",
              "      <td>0</td>\n",
              "      <td>Connecticut</td>\n",
              "      <td>0.0</td>\n",
              "      <td>0.0</td>\n",
              "    </tr>\n",
              "    <tr>\n",
              "      <th>2020-01-25</th>\n",
              "      <td>0</td>\n",
              "      <td>0</td>\n",
              "      <td>Connecticut</td>\n",
              "      <td>0.0</td>\n",
              "      <td>0.0</td>\n",
              "    </tr>\n",
              "    <tr>\n",
              "      <th>2020-01-26</th>\n",
              "      <td>0</td>\n",
              "      <td>0</td>\n",
              "      <td>Connecticut</td>\n",
              "      <td>0.0</td>\n",
              "      <td>0.0</td>\n",
              "    </tr>\n",
              "  </tbody>\n",
              "</table>\n",
              "</div>"
            ],
            "text/plain": [
              "            confirmed  death        state  added confirmed  added death\n",
              "Date                                                                   \n",
              "2020-01-22          0      0  Connecticut              0.0          0.0\n",
              "2020-01-23          0      0  Connecticut              0.0          0.0\n",
              "2020-01-24          0      0  Connecticut              0.0          0.0\n",
              "2020-01-25          0      0  Connecticut              0.0          0.0\n",
              "2020-01-26          0      0  Connecticut              0.0          0.0"
            ]
          },
          "metadata": {
            "tags": []
          },
          "execution_count": 3
        }
      ]
    },
    {
      "cell_type": "code",
      "metadata": {
        "colab": {
          "base_uri": "https://localhost:8080/",
          "height": 450
        },
        "id": "M9FDk9zvVhaX",
        "outputId": "b0c7554f-759e-4c4b-8fc7-1532551ac119"
      },
      "source": [
        "dataset = pd.DataFrame(ct['added confirmed'], columns = ['added confirmed'])\r\n",
        "\r\n",
        "#dataset['days'] = range(len(ct))\r\n",
        "\r\n",
        "#dataset.reset_index(drop=True)\r\n",
        "\r\n",
        "dataset"
      ],
      "execution_count": 6,
      "outputs": [
        {
          "output_type": "execute_result",
          "data": {
            "text/html": [
              "<div>\n",
              "<style scoped>\n",
              "    .dataframe tbody tr th:only-of-type {\n",
              "        vertical-align: middle;\n",
              "    }\n",
              "\n",
              "    .dataframe tbody tr th {\n",
              "        vertical-align: top;\n",
              "    }\n",
              "\n",
              "    .dataframe thead th {\n",
              "        text-align: right;\n",
              "    }\n",
              "</style>\n",
              "<table border=\"1\" class=\"dataframe\">\n",
              "  <thead>\n",
              "    <tr style=\"text-align: right;\">\n",
              "      <th></th>\n",
              "      <th>added confirmed</th>\n",
              "    </tr>\n",
              "    <tr>\n",
              "      <th>Date</th>\n",
              "      <th></th>\n",
              "    </tr>\n",
              "  </thead>\n",
              "  <tbody>\n",
              "    <tr>\n",
              "      <th>2020-01-22</th>\n",
              "      <td>0.0</td>\n",
              "    </tr>\n",
              "    <tr>\n",
              "      <th>2020-01-23</th>\n",
              "      <td>0.0</td>\n",
              "    </tr>\n",
              "    <tr>\n",
              "      <th>2020-01-24</th>\n",
              "      <td>0.0</td>\n",
              "    </tr>\n",
              "    <tr>\n",
              "      <th>2020-01-25</th>\n",
              "      <td>0.0</td>\n",
              "    </tr>\n",
              "    <tr>\n",
              "      <th>2020-01-26</th>\n",
              "      <td>0.0</td>\n",
              "    </tr>\n",
              "    <tr>\n",
              "      <th>...</th>\n",
              "      <td>...</td>\n",
              "    </tr>\n",
              "    <tr>\n",
              "      <th>2020-12-02</th>\n",
              "      <td>2672.0</td>\n",
              "    </tr>\n",
              "    <tr>\n",
              "      <th>2020-12-03</th>\n",
              "      <td>4751.0</td>\n",
              "    </tr>\n",
              "    <tr>\n",
              "      <th>2020-12-04</th>\n",
              "      <td>1538.0</td>\n",
              "    </tr>\n",
              "    <tr>\n",
              "      <th>2020-12-05</th>\n",
              "      <td>0.0</td>\n",
              "    </tr>\n",
              "    <tr>\n",
              "      <th>2020-12-06</th>\n",
              "      <td>0.0</td>\n",
              "    </tr>\n",
              "  </tbody>\n",
              "</table>\n",
              "<p>320 rows × 1 columns</p>\n",
              "</div>"
            ],
            "text/plain": [
              "            added confirmed\n",
              "Date                       \n",
              "2020-01-22              0.0\n",
              "2020-01-23              0.0\n",
              "2020-01-24              0.0\n",
              "2020-01-25              0.0\n",
              "2020-01-26              0.0\n",
              "...                     ...\n",
              "2020-12-02           2672.0\n",
              "2020-12-03           4751.0\n",
              "2020-12-04           1538.0\n",
              "2020-12-05              0.0\n",
              "2020-12-06              0.0\n",
              "\n",
              "[320 rows x 1 columns]"
            ]
          },
          "metadata": {
            "tags": []
          },
          "execution_count": 6
        }
      ]
    },
    {
      "cell_type": "code",
      "metadata": {
        "id": "5Fz7iHIFVTcB"
      },
      "source": [
        "scaler = MinMaxScaler(feature_range=(0, 1))\r\n",
        "dataset = scaler.fit_transform(dataset)\r\n"
      ],
      "execution_count": 7,
      "outputs": []
    },
    {
      "cell_type": "code",
      "metadata": {
        "id": "YSG80PWtZdX4"
      },
      "source": [
        "# split into train and test sets\r\n",
        "train_size = int(len(dataset) * 280/320)\r\n",
        "test_size = len(dataset) - train_size\r\n",
        "train, test = dataset[0:train_size,:], dataset[train_size:len(dataset),:]"
      ],
      "execution_count": 8,
      "outputs": []
    },
    {
      "cell_type": "code",
      "metadata": {
        "id": "DUduFiNoZoOW"
      },
      "source": [
        "def LookBackSize(look_back = 4, train = train, test = test):\r\n",
        "  # reshape into X=t and Y=t+1\r\n",
        "  trainX, trainY = create_dataset(train, look_back)\r\n",
        "  testX, testY = create_dataset(test, look_back)\r\n",
        "  # reshape input to be [samples, time steps, features]\r\n",
        "  trainX = np.reshape(trainX, (trainX.shape[0], trainX.shape[1], 1))\r\n",
        "  testX = np.reshape(testX, (testX.shape[0], testX.shape[1], 1))\r\n",
        "  \r\n",
        "  # create and fit the LSTM network\r\n",
        "  batch_size = 1\r\n",
        "  model = Sequential()\r\n",
        "  model.add(LSTM(4, batch_input_shape=(batch_size, look_back, 1), stateful=True, return_sequences=True))\r\n",
        "  model.add(LSTM(4, batch_input_shape=(batch_size, look_back, 1), stateful=True))\r\n",
        "  model.add(Dense(1))\r\n",
        "  model.compile(loss='mean_squared_error', optimizer='adam')\r\n",
        "  \r\n",
        "  i = 0\r\n",
        "  while i < 100:\r\n",
        "    history = model.fit(trainX, trainY, epochs=1, batch_size=batch_size, verbose=2, shuffle=False)\r\n",
        "    model.reset_states()\r\n",
        "    i = i + 1 \r\n",
        "    if history.history['loss'][0] < 0.001:\r\n",
        "      break\r\n",
        "      \r\n",
        "  # see final loss\r\n",
        "  print(history.history['loss'])\r\n",
        "\r\n",
        "  # make predictions\r\n",
        "  trainPredict = model.predict(trainX, batch_size=batch_size)\r\n",
        "  model.reset_states()\r\n",
        "  testPredict = model.predict(testX, batch_size=batch_size)\r\n",
        "\r\n",
        "  # invert predictions\r\n",
        "  trainPredict = scaler.inverse_transform(trainPredict)\r\n",
        "  trainY = scaler.inverse_transform([trainY])\r\n",
        "  testPredict = scaler.inverse_transform(testPredict)\r\n",
        "  testY = scaler.inverse_transform([testY])\r\n",
        "  \r\n",
        "  # print train score\r\n",
        "  # calculate root mean squared error\r\n",
        "  trainScore = mean_squared_error(trainY[0], trainPredict[:,0], squared=False)\r\n",
        "  print('Train Score: %.3f RMSE' % (trainScore))\r\n",
        "  return trainScore, model, history.history['loss'], trainPredict, testPredict\r\n",
        "\r\n",
        "\r\n"
      ],
      "execution_count": 34,
      "outputs": []
    },
    {
      "cell_type": "code",
      "metadata": {
        "id": "4g0FMopqh09C"
      },
      "source": [
        "# model selection\r\n",
        "\r\n",
        "trainscores = []\r\n",
        "error = []\r\n",
        "\r\n",
        "for lookbacksize in range(7):\r\n",
        "  tmpscore, _, tmperr, _, _ = LookBackSize(look_back = lookbacksize + 1)\r\n",
        "  trainscores.append(tmpscore)\r\n",
        "  error.append(tmperr)\r\n",
        "  del tmpscore, tmperr\r\n",
        "\r\n"
      ],
      "execution_count": null,
      "outputs": []
    },
    {
      "cell_type": "code",
      "metadata": {
        "colab": {
          "base_uri": "https://localhost:8080/"
        },
        "id": "uqXic6o6kxSN",
        "outputId": "358c19e1-c129-4d97-9dac-2beb510ddd67"
      },
      "source": [
        "trainscores"
      ],
      "execution_count": 28,
      "outputs": [
        {
          "output_type": "execute_result",
          "data": {
            "text/plain": [
              "[344.78795976838666,\n",
              " 296.22434657842626,\n",
              " 298.57443079363026,\n",
              " 337.74817221235696,\n",
              " 390.25643455316083,\n",
              " 330.7075387045512,\n",
              " 376.70415846324295]"
            ]
          },
          "metadata": {
            "tags": []
          },
          "execution_count": 28
        }
      ]
    },
    {
      "cell_type": "code",
      "metadata": {
        "id": "isaVVXwa-tWk"
      },
      "source": [
        "# model selected and prediction\r\n",
        "\r\n",
        "look_back = 3\r\n",
        "\r\n",
        "_, model,_, trainPredict, testPredict = LookBackSize(look_back = look_back)\r\n"
      ],
      "execution_count": null,
      "outputs": []
    },
    {
      "cell_type": "code",
      "metadata": {
        "colab": {
          "base_uri": "https://localhost:8080/",
          "height": 306
        },
        "id": "MI25JcIU0fuw",
        "outputId": "49530154-df63-4511-a20a-cd1e90fc2189"
      },
      "source": [
        "# shift train predictions for plotting\r\n",
        "trainPredictPlot = np.empty_like(dataset)\r\n",
        "trainPredictPlot[:, :] = np.nan\r\n",
        "trainPredictPlot[look_back:len(trainPredict)+look_back, :] = trainPredict\r\n",
        "# shift test predictions for plotting\r\n",
        "testPredictPlot = np.empty_like(dataset)\r\n",
        "testPredictPlot[:, :] = np.nan\r\n",
        "testPredictPlot[len(trainPredict)+(look_back*2)+1:len(dataset)-1, :] = testPredict\r\n",
        "# plot baseline and predictions\r\n",
        "plt.plot(ct.index, scaler.inverse_transform(dataset), label = 'observed data')\r\n",
        "plt.plot(ct.index, trainPredictPlot, label = 'prediction, training data')\r\n",
        "plt.plot(ct.index, testPredictPlot, label = 'prediction, test data')\r\n",
        "plt.xlabel('time'), plt.ylabel('daily confirmed COVID in CT'), plt.xticks(rotation = 45)\r\n",
        "plt.legend()\r\n",
        "plt.show()\r\n"
      ],
      "execution_count": 114,
      "outputs": [
        {
          "output_type": "display_data",
          "data": {
            "image/png": "[encoded data removed]",
            "text/plain": [
              "<Figure size 432x288 with 1 Axes>"
            ]
          },
          "metadata": {
            "tags": [],
            "needs_background": "light"
          }
        }
      ]
    },
    {
      "cell_type": "code",
      "metadata": {
        "colab": {
          "base_uri": "https://localhost:8080/"
        },
        "id": "ijy7-zd69vCl",
        "outputId": "ab9ffb7f-c452-4222-b237-03ceddfa1ce9"
      },
      "source": [
        "np.sum(np.abs(np.reshape(testPredictPlot, 320) - ct['added confirmed']))/np.mean(ct['added confirmed'][-testPredict.size:])/testPredict.size"
      ],
      "execution_count": 115,
      "outputs": [
        {
          "output_type": "execute_result",
          "data": {
            "text/plain": [
              "0.8774470225796118"
            ]
          },
          "metadata": {
            "tags": []
          },
          "execution_count": 115
        }
      ]
    },
    {
      "cell_type": "code",
      "metadata": {
        "colab": {
          "base_uri": "https://localhost:8080/"
        },
        "id": "tVsdnOdU9k7m",
        "outputId": "a674fcad-2d4b-42b9-f54e-5502439eac3f"
      },
      "source": [
        "model.summary()"
      ],
      "execution_count": 100,
      "outputs": [
        {
          "output_type": "stream",
          "text": [
            "Model: \"sequential_11\"\n",
            "_________________________________________________________________\n",
            "Layer (type)                 Output Shape              Param #   \n",
            "=================================================================\n",
            "lstm_22 (LSTM)               (1, 3, 4)                 96        \n",
            "_________________________________________________________________\n",
            "lstm_23 (LSTM)               (1, 4)                    144       \n",
            "_________________________________________________________________\n",
            "dense_11 (Dense)             (1, 1)                    5         \n",
            "=================================================================\n",
            "Total params: 245\n",
            "Trainable params: 245\n",
            "Non-trainable params: 0\n",
            "_________________________________________________________________\n"
          ],
          "name": "stdout"
        }
      ]
    },
    {
      "cell_type": "code",
      "metadata": {
        "colab": {
          "base_uri": "https://localhost:8080/"
        },
        "id": "GUhz2jB99CYC",
        "outputId": "98787a5f-d610-475c-ca16-12f3505a5367"
      },
      "source": [
        "model.layers"
      ],
      "execution_count": 96,
      "outputs": [
        {
          "output_type": "execute_result",
          "data": {
            "text/plain": [
              "[<tensorflow.python.keras.layers.recurrent_v2.LSTM at 0x7fe3adbea3c8>,\n",
              " <tensorflow.python.keras.layers.recurrent_v2.LSTM at 0x7fe3b29a6ef0>,\n",
              " <tensorflow.python.keras.layers.core.Dense at 0x7fe3aa58bf60>]"
            ]
          },
          "metadata": {
            "tags": []
          },
          "execution_count": 96
        }
      ]
    },
    {
      "cell_type": "code",
      "metadata": {
        "colab": {
          "base_uri": "https://localhost:8080/"
        },
        "id": "m-bgQ2MJ9OY5",
        "outputId": "de4aefad-9087-4ed2-f942-46fa08d7fc5e"
      },
      "source": [
        "for layer in model.layers:\r\n",
        "  print(layer.weights)"
      ],
      "execution_count": 99,
      "outputs": [
        {
          "output_type": "stream",
          "text": [
            "[<tf.Variable 'lstm_22/lstm_cell_22/kernel:0' shape=(1, 16) dtype=float32, numpy=\n",
            "array([[-0.20802246, -0.4197998 , -0.36287785,  0.5441674 ,  0.03693468,\n",
            "        -0.37515196, -0.05747446,  0.5148812 ,  1.1382821 , -1.118005  ,\n",
            "         0.14139476, -0.7799056 ,  0.43653673, -0.69095635,  0.1501942 ,\n",
            "        -0.05019266]], dtype=float32)>, <tf.Variable 'lstm_22/lstm_cell_22/recurrent_kernel:0' shape=(4, 16) dtype=float32, numpy=\n",
            "array([[-5.7784893e-02,  4.4915941e-01,  6.1833154e-02,  3.4203744e-01,\n",
            "         2.8862435e-01, -6.3590413e-01,  2.5786949e-02,  3.4700096e-01,\n",
            "         2.6756483e-01,  6.1397306e-03,  5.7971931e-01, -6.2276250e-01,\n",
            "         1.7594006e-02,  6.7147297e-01,  2.6648766e-01,  5.5301619e-01],\n",
            "       [-8.4270281e-04,  1.9436516e-01, -6.8503731e-01, -2.8802946e-01,\n",
            "         7.5794831e-02,  6.1151397e-01, -8.4320861e-01, -8.1148171e-01,\n",
            "         8.4600568e-02, -4.8407733e-01, -4.0596935e-01,  1.4553809e-01,\n",
            "         4.6772322e-01,  6.8375248e-01, -6.5158737e-01, -1.9085599e-01],\n",
            "       [ 5.0306463e-01,  3.3404374e-01, -4.0932426e-01,  1.2095263e-01,\n",
            "        -5.6668956e-02, -4.7527596e-01, -6.3318723e-01, -3.9012635e-01,\n",
            "        -1.7699443e-01,  4.9693641e-01, -2.5931117e-01,  6.4615153e-02,\n",
            "         3.9450720e-01, -9.8413058e-02,  8.0218203e-02,  1.3310322e-01],\n",
            "       [-4.8179245e-01, -1.1217943e-02, -4.1481093e-01, -2.0159440e-01,\n",
            "        -5.1125526e-01,  5.1931417e-01,  3.2188952e-01,  1.8977678e-01,\n",
            "         2.1934599e-02, -2.4544558e-02, -5.3119552e-01,  5.0981086e-01,\n",
            "        -7.8688025e-01, -4.6239778e-01,  8.7161601e-02, -2.8770974e-01]],\n",
            "      dtype=float32)>, <tf.Variable 'lstm_22/lstm_cell_22/bias:0' shape=(16,) dtype=float32, numpy=\n",
            "array([ 0.42592895,  0.2628335 , -0.08141244,  0.04680766,  1.0914406 ,\n",
            "        0.7142838 ,  0.8967328 ,  1.191826  , -0.08591248,  0.09102383,\n",
            "       -0.00184705,  0.04490161,  0.3214496 ,  0.24062145, -0.13417877,\n",
            "        0.11049428], dtype=float32)>]\n",
            "[<tf.Variable 'lstm_23/lstm_cell_23/kernel:0' shape=(4, 16) dtype=float32, numpy=\n",
            "array([[-0.3213697 ,  0.37761107, -0.54454815,  0.30385724, -0.39261538,\n",
            "        -0.25213233, -0.34850615,  0.7938323 ,  0.7197681 , -0.05912114,\n",
            "        -0.76814467,  0.71941984, -0.17237562, -0.6587601 ,  0.18295169,\n",
            "         0.11223737],\n",
            "       [ 1.5390991 ,  0.46463868,  1.5796986 ,  0.3193307 ,  0.9264043 ,\n",
            "         0.5470753 ,  0.04238683,  0.17646044, -0.5684263 ,  0.07892628,\n",
            "         1.4629855 ,  0.6754309 ,  1.1978244 ,  0.20439593,  0.47959995,\n",
            "        -0.50238407],\n",
            "       [-0.13082173,  0.12124649,  1.3928741 , -0.47037882, -0.6124084 ,\n",
            "        -0.38362452, -0.2984937 ,  0.23474069,  0.21934748,  0.23697196,\n",
            "         0.20193535, -0.2873167 ,  0.9679285 , -0.45912015,  0.61741287,\n",
            "        -0.6884091 ],\n",
            "       [-0.58812636,  0.19165105, -1.3674816 ,  0.30337504,  0.89494336,\n",
            "         0.36874783,  0.5526054 , -0.14711457,  0.02825043, -0.30358663,\n",
            "         0.19709665,  0.02553293, -0.20470518,  0.08229505, -0.74907655,\n",
            "        -0.13668743]], dtype=float32)>, <tf.Variable 'lstm_23/lstm_cell_23/recurrent_kernel:0' shape=(4, 16) dtype=float32, numpy=\n",
            "array([[ 1.0963613 ,  0.68629366, -0.4369195 ,  0.73103076, -0.23734206,\n",
            "         0.4553011 , -1.2517124 ,  0.58723485, -0.4383817 ,  0.81780416,\n",
            "        -1.0439173 ,  0.4428314 , -0.11848821,  1.1433244 , -1.547279  ,\n",
            "         0.56847394],\n",
            "       [ 0.5312712 , -0.48665527,  1.6402655 , -0.90186065, -0.45471746,\n",
            "        -0.49813664, -0.1690507 ,  0.20237923, -0.3413356 , -0.50860244,\n",
            "         0.8740315 , -0.34468433,  0.99703074, -0.4111806 ,  0.9418887 ,\n",
            "        -0.50572515],\n",
            "       [-0.15426642, -0.8191727 ,  0.1472022 , -0.6203064 ,  0.88289154,\n",
            "        -0.21297035, -0.10485628,  0.03827973,  0.52946484, -0.7964406 ,\n",
            "        -0.05187188,  0.10511634, -0.02441329, -0.2118075 ,  0.94444007,\n",
            "        -0.8071267 ],\n",
            "       [ 0.5037877 ,  0.14620867, -0.2094502 ,  0.03086939,  0.10404752,\n",
            "         0.6127735 ,  0.34192705,  0.39652407, -0.04570023,  0.42091507,\n",
            "        -1.0491425 , -0.11853322, -0.45414418, -0.11802367, -0.3695364 ,\n",
            "        -0.16551296]], dtype=float32)>, <tf.Variable 'lstm_23/lstm_cell_23/bias:0' shape=(16,) dtype=float32, numpy=\n",
            "array([ 0.01903254, -0.14869405,  0.8948101 , -1.2964123 ,  0.69728667,\n",
            "        0.86280644,  1.1351898 ,  0.9664642 , -0.02437851,  0.05201393,\n",
            "        0.05905087, -0.01666684,  0.34437788, -0.19341587,  1.1122087 ,\n",
            "       -0.48649833], dtype=float32)>]\n",
            "[<tf.Variable 'dense_11/kernel:0' shape=(4, 1) dtype=float32, numpy=\n",
            "array([[-0.3023281 ],\n",
            "       [ 0.8760665 ],\n",
            "       [ 0.20930253],\n",
            "       [ 0.00171906]], dtype=float32)>, <tf.Variable 'dense_11/bias:0' shape=(1,) dtype=float32, numpy=array([0.06196631], dtype=float32)>]\n"
          ],
          "name": "stdout"
        }
      ]
    }
  ]
}